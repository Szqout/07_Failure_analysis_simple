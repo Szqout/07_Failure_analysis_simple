{
 "cells": [
  {
   "cell_type": "code",
   "execution_count": null,
   "id": "015b7f69",
   "metadata": {},
   "outputs": [],
   "source": [
    "# 0: Libraries\n",
    "import pandas as pd                     # Data manipulation and analysis\n",
    "import matplotlib.pyplot as plt         # Data visualization\n",
    "import numpy as np                      # Numerical operations\n",
    "from scipy.stats import expon, weibull_min  # Statistical modeling"
   ]
  },
  {
   "cell_type": "code",
   "execution_count": null,
   "id": "ff79233c",
   "metadata": {},
   "outputs": [],
   "source": []
  }
 ],
 "metadata": {
  "kernelspec": {
   "display_name": ".venv",
   "language": "python",
   "name": "python3"
  },
  "language_info": {
   "name": "python",
   "version": "3.12.1"
  }
 },
 "nbformat": 4,
 "nbformat_minor": 5
}
